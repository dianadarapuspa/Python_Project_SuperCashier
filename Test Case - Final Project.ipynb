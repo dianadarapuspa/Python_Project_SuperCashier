{
 "cells": [
  {
   "cell_type": "code",
   "execution_count": 2,
   "metadata": {},
   "outputs": [],
   "source": [
    "import cashier_modul as c"
   ]
  },
  {
   "cell_type": "code",
   "execution_count": 4,
   "metadata": {},
   "outputs": [
    {
     "name": "stdout",
     "output_type": "stream",
     "text": [
      "**************************\n",
      "Welcom to Super Cashier 99\n",
      "**************************\n",
      "\n",
      "Ketik 1 untuk add item. \n",
      "Ketik 2 untuk ubah item. \n",
      "Ketik 3 untuk delete item. \n",
      "Ketik 0 untuk membatalkan belanja\n"
     ]
    },
    {
     "ename": "ValueError",
     "evalue": "invalid literal for int() with base 10: ''",
     "output_type": "error",
     "traceback": [
      "\u001b[1;31m---------------------------------------------------------------------------\u001b[0m",
      "\u001b[1;31mValueError\u001b[0m                                Traceback (most recent call last)",
      "Cell \u001b[1;32mIn[4], line 12\u001b[0m\n\u001b[0;32m     10\u001b[0m \u001b[39mwhile\u001b[39;00m confirm1 \u001b[39m==\u001b[39m \u001b[39m\"\u001b[39m\u001b[39my\u001b[39m\u001b[39m\"\u001b[39m:\n\u001b[0;32m     11\u001b[0m     \u001b[39mprint\u001b[39m(\u001b[39m'\u001b[39m\u001b[39m\\n\u001b[39;00m\u001b[39mKetik 1 untuk add item. \u001b[39m\u001b[39m\\n\u001b[39;00m\u001b[39mKetik 2 untuk ubah item. \u001b[39m\u001b[39m\\n\u001b[39;00m\u001b[39mKetik 3 untuk delete item. \u001b[39m\u001b[39m\\n\u001b[39;00m\u001b[39mKetik 0 untuk membatalkan belanja\u001b[39m\u001b[39m'\u001b[39m)\n\u001b[1;32m---> 12\u001b[0m     belanja \u001b[39m=\u001b[39m \u001b[39mint\u001b[39;49m(\u001b[39minput\u001b[39;49m(\u001b[39m'\u001b[39;49m\u001b[39mMasukkan pilihan anda: \u001b[39;49m\u001b[39m'\u001b[39;49m))\n\u001b[0;32m     14\u001b[0m     \u001b[39mif\u001b[39;00m belanja \u001b[39m==\u001b[39m \u001b[39m1\u001b[39m:\n\u001b[0;32m     15\u001b[0m         nama_item \u001b[39m=\u001b[39m \u001b[39minput\u001b[39m(\u001b[39m'\u001b[39m\u001b[39mMasukkan nama item: \u001b[39m\u001b[39m'\u001b[39m)\n",
      "\u001b[1;31mValueError\u001b[0m: invalid literal for int() with base 10: ''"
     ]
    }
   ],
   "source": [
    "transaksi = c.Transaction()\n",
    "\n",
    "id_transaksi = int(input(\"Masukkan nomor ID anda: \"))\n",
    "message = f\"Welcome to Super Cashier {id_transaksi}\"\n",
    "print(\"*\"* len(message))\n",
    "print(message)\n",
    "print(\"*\"* len(message))\n",
    "\n",
    "confirm1 = input(\"Apakah Anda akan berbelanja? y/n: \")\n",
    "while confirm1 == \"y\":\n",
    "    print('\\nKetik 1 untuk add item. \\nKetik 2 untuk ubah item. \\nKetik 3 untuk delete item. \\nKetik 0 untuk membatalkan belanja')\n",
    "    belanja = int(input('Masukkan pilihan anda: '))\n",
    "    \n",
    "    if belanja == 1:\n",
    "        nama_item = input('Masukkan nama item: ')\n",
    "        jumlah_item = int(input('Masukkan jumlah item: '))\n",
    "        harga_item = int(input('Masukkan harga item: '))\n",
    "        transaksi.add_item(nama_item, jumlah_item, harga_item)\n",
    "        transaksi.print_order()\n",
    "        confirm1 = input('Apakah anda ingin berbelanja(1), mengubah (2), menghapus (3), membatalkan transaksi(0)? (y/n) : ')\n",
    "        \n",
    "    elif belanja == 2:\n",
    "        print(\"\\n Ketik A untuk ubah item name \\n ketik B untuk ubah item qty \\n Ketik C untuk ubah price\")\n",
    "        ubah = input(\"Masukkan pilihan Anda: \")\n",
    "        \n",
    "        if ubah == \"a\":\n",
    "            nama_item = input('Masukkan nama item: ')\n",
    "            nama_item_baru = input('Masukkan nama item baru: ')\n",
    "            transaksi.update_item_name(nama_item, nama_item_baru)\n",
    "            transaksi.print_order()\n",
    "            confirm1 = input('Apakah anda ingin berbelanja lagi? (y/n) : ')    \n",
    "\n",
    "        elif ubah == \"b\":\n",
    "            nama_item = nama_item = input('Masukkan nama item: ')\n",
    "            jumlah_item = int(input('Masukkan jumlah item: '))\n",
    "            transaksi.update_item_qty(nama_item, jumlah_item)\n",
    "            transaksi.print_order()\n",
    "            confirm1 = input('Apakah anda ingin berbelanja lagi? (y/n) : ')\n",
    "\n",
    "        elif ubah == \"c\":\n",
    "            nama_item = nama_item = input('Masukkan nama item: ')\n",
    "            harga_item = int(input('Masukkan harga item: '))\n",
    "            transaksi.update_item_price(nama_item, harga_item)\n",
    "            transaksi.print_order()\n",
    "            confirm1 = input('Apakah anda ingin berbelanja lagi? (y/n) : ')\n",
    "\n",
    "    elif belanja == 3:\n",
    "        nama_item = nama_item = input('Masukkan nama item: ')\n",
    "        transaksi.delete_item(nama_item)\n",
    "        transaksi.print_order()\n",
    "        confirm1 = input('Apakah anda ingin berbelanja lagi? (y/n) : ')\n",
    "\n",
    "    elif belanja == 0:\n",
    "        transaksi.reset_transaction()\n",
    "        confirm1 = input('Apakah anda ingin berbelanja lagi? (y/n) : ')\n",
    "\n",
    "else:\n",
    "    print(\"\\nTerimakasih\")\n",
    "\n",
    "transaksi.total_price()"
   ]
  },
  {
   "cell_type": "markdown",
   "metadata": {},
   "source": [
    "## **Test Case 1 - Add Item**\n",
    "Melakukan penambahan item\n",
    "\n"
   ]
  },
  {
   "cell_type": "code",
   "execution_count": 1,
   "metadata": {},
   "outputs": [
    {
     "ename": "NameError",
     "evalue": "name 'c' is not defined",
     "output_type": "error",
     "traceback": [
      "\u001b[1;31m---------------------------------------------------------------------------\u001b[0m",
      "\u001b[1;31mNameError\u001b[0m                                 Traceback (most recent call last)",
      "Cell \u001b[1;32mIn[1], line 1\u001b[0m\n\u001b[1;32m----> 1\u001b[0m transaksi \u001b[39m=\u001b[39m c\u001b[39m.\u001b[39mTransaction()\n\u001b[0;32m      2\u001b[0m transaksi\u001b[39m.\u001b[39madd_item(\u001b[39m\"\u001b[39m\u001b[39mRinso\u001b[39m\u001b[39m\"\u001b[39m, \u001b[39m2\u001b[39m, \u001b[39m15_000\u001b[39m)\n\u001b[0;32m      3\u001b[0m transaksi\u001b[39m.\u001b[39madd_item(\u001b[39m\"\u001b[39m\u001b[39mDawny\u001b[39m\u001b[39m\"\u001b[39m, \u001b[39m3\u001b[39m, \u001b[39m20_000\u001b[39m)\n",
      "\u001b[1;31mNameError\u001b[0m: name 'c' is not defined"
     ]
    }
   ],
   "source": [
    "transaksi = c.Transaction()\n",
    "transaksi.add_item(\"Rinso\", 2, 15_000)\n",
    "transaksi.add_item(\"Dawny\", 3, 20_000)\n",
    "transaksi.add_item(\"Pepsodent\", 11, 17_000)\n",
    "transaksi.add_item(\"Hairdryer\",1,300_000)\n",
    "transaksi.print_order()"
   ]
  },
  {
   "cell_type": "markdown",
   "metadata": {},
   "source": [
    "## **Test Case 2 - Update Item (Nama Item, Jumlah Item, Harga Item)**\n",
    "Melakukan perubahan nama item, jumlah item, atau harga item"
   ]
  },
  {
   "cell_type": "code",
   "execution_count": 24,
   "metadata": {},
   "outputs": [
    {
     "name": "stdout",
     "output_type": "stream",
     "text": [
      "| Nama Item   |   Jumlah Item |   Harga Item |   Total Harga |\n",
      "|-------------|---------------|--------------|---------------|\n",
      "| Dawny       |             3 |        20000 |         60000 |\n",
      "| Pepsodent   |            11 |        17000 |        187000 |\n",
      "| Hairdryer   |             1 |       300000 |        300000 |\n",
      "| Daia        |             2 |        15000 |         30000 |\n",
      "Total Belanja Anda 577000\n",
      "Mengubah nama item Rinso menjadi Daia.\n"
     ]
    }
   ],
   "source": [
    "transaksi.update_item_name(\"Rinso\",\"Daia\")"
   ]
  },
  {
   "cell_type": "code",
   "execution_count": 25,
   "metadata": {},
   "outputs": [
    {
     "name": "stdout",
     "output_type": "stream",
     "text": [
      "| Nama Item   |   Jumlah Item |   Harga Item |   Total Harga |\n",
      "|-------------|---------------|--------------|---------------|\n",
      "| Dawny       |            10 |        20000 |        200000 |\n",
      "| Pepsodent   |            11 |        17000 |        187000 |\n",
      "| Hairdryer   |             1 |       300000 |        300000 |\n",
      "| Daia        |             2 |        15000 |         30000 |\n",
      "Total Belanja Anda 717000\n",
      "Mengubah jumlah item Dawny menjadi 10\n"
     ]
    }
   ],
   "source": [
    "transaksi.update_item_qty(\"Dawny\", 10)"
   ]
  },
  {
   "cell_type": "code",
   "execution_count": 26,
   "metadata": {},
   "outputs": [
    {
     "name": "stdout",
     "output_type": "stream",
     "text": [
      "| Nama Item   |   Jumlah Item |   Harga Item |   Total Harga |\n",
      "|-------------|---------------|--------------|---------------|\n",
      "| Dawny       |            10 |         5000 |         50000 |\n",
      "| Pepsodent   |            11 |        17000 |        187000 |\n",
      "| Hairdryer   |             1 |       300000 |        300000 |\n",
      "| Daia        |             2 |        15000 |         30000 |\n",
      "Total Belanja Anda 567000\n",
      "Mengubah harga item Dawny menjadi Rp. 5000\n"
     ]
    }
   ],
   "source": [
    "transaksi.update_item_price(\"Dawny\", 5000)"
   ]
  },
  {
   "cell_type": "markdown",
   "metadata": {},
   "source": [
    "## **Test Case 3 - Check Order Item**\n",
    "Melakukan pengecekan jumlah item yang sudah dipesan"
   ]
  },
  {
   "cell_type": "code",
   "execution_count": 27,
   "metadata": {},
   "outputs": [
    {
     "name": "stdout",
     "output_type": "stream",
     "text": [
      "| Nama Item   |   Jumlah Item |   Harga Item |   Total Harga |\n",
      "|-------------|---------------|--------------|---------------|\n",
      "| Dawny       |            10 |         5000 |         50000 |\n",
      "| Pepsodent   |            11 |        17000 |        187000 |\n",
      "| Hairdryer   |             1 |       300000 |        300000 |\n",
      "| Daia        |             2 |        15000 |         30000 |\n",
      "Total Belanja Anda 567000\n",
      "Pemesanan sudah benar\n"
     ]
    }
   ],
   "source": [
    "transaksi.check_order()"
   ]
  },
  {
   "cell_type": "markdown",
   "metadata": {},
   "source": [
    "## **Test Case 4 - Delete Item**\n",
    "\n",
    "Melakukan penghapusan item barang"
   ]
  },
  {
   "cell_type": "code",
   "execution_count": 28,
   "metadata": {},
   "outputs": [
    {
     "name": "stdout",
     "output_type": "stream",
     "text": [
      "Menghapus pesanan Daia.\n",
      "\n",
      "| Nama Item   |   Jumlah Item |   Harga Item |   Total Harga |\n",
      "|-------------|---------------|--------------|---------------|\n",
      "| Dawny       |            10 |         5000 |         50000 |\n",
      "| Pepsodent   |            11 |        17000 |        187000 |\n",
      "| Hairdryer   |             1 |       300000 |        300000 |\n",
      "Total Belanja Anda 537000\n"
     ]
    }
   ],
   "source": [
    "transaksi.delete_item(\"Daia\")"
   ]
  },
  {
   "cell_type": "markdown",
   "metadata": {},
   "source": [
    "## **Test Case 5 - Print Order Item**\n",
    "\n",
    "Melakukan print total semua barang yang sudah dipesan"
   ]
  },
  {
   "cell_type": "code",
   "execution_count": 29,
   "metadata": {},
   "outputs": [
    {
     "name": "stdout",
     "output_type": "stream",
     "text": [
      "| Nama Item   |   Jumlah Item |   Harga Item |   Total Harga |\n",
      "|-------------|---------------|--------------|---------------|\n",
      "| Dawny       |            10 |         5000 |         50000 |\n",
      "| Pepsodent   |            11 |        17000 |        187000 |\n",
      "| Hairdryer   |             1 |       300000 |        300000 |\n",
      "Total Belanja Anda 537000\n"
     ]
    }
   ],
   "source": [
    "transaksi.print_order()"
   ]
  },
  {
   "cell_type": "markdown",
   "metadata": {},
   "source": [
    "## **Test Case 6 - Reset Transaksi**\n",
    "Melakukan pembatalan transaksi"
   ]
  },
  {
   "cell_type": "code",
   "execution_count": 21,
   "metadata": {},
   "outputs": [
    {
     "name": "stdout",
     "output_type": "stream",
     "text": [
      "Item berhasil dihapus\n"
     ]
    }
   ],
   "source": [
    "transaksi.reset_transaction()"
   ]
  },
  {
   "cell_type": "markdown",
   "metadata": {},
   "source": [
    "## **Test Case 7 - Menghitung Total Transaksi dan Diskon**\n",
    "\n",
    "Menghitung total belanja dan diskon yang didapatkan"
   ]
  },
  {
   "cell_type": "code",
   "execution_count": 30,
   "metadata": {},
   "outputs": [
    {
     "name": "stdout",
     "output_type": "stream",
     "text": [
      "| Nama Item   |   Jumlah Item |   Harga Item |   Total Harga |\n",
      "|-------------|---------------|--------------|---------------|\n",
      "| Dawny       |            10 |         5000 |         50000 |\n",
      "| Pepsodent   |            11 |        17000 |        187000 |\n",
      "| Hairdryer   |             1 |       300000 |        300000 |\n",
      "Total Belanja Anda 537000\n",
      "Pemesanan sudah benar\n",
      "Anda mendapat diskon 10%, maka total belanja Anda adalah Rp.483300\n"
     ]
    }
   ],
   "source": [
    "transaksi.total_price()"
   ]
  }
 ],
 "metadata": {
  "kernelspec": {
   "display_name": "Python 3",
   "language": "python",
   "name": "python3"
  },
  "language_info": {
   "codemirror_mode": {
    "name": "ipython",
    "version": 3
   },
   "file_extension": ".py",
   "mimetype": "text/x-python",
   "name": "python",
   "nbconvert_exporter": "python",
   "pygments_lexer": "ipython3",
   "version": "3.9.0"
  }
 },
 "nbformat": 4,
 "nbformat_minor": 4
}
